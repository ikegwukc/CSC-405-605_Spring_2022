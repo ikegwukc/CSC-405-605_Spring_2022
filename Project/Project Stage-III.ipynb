{
 "cells": [
  {
   "cell_type": "markdown",
   "metadata": {},
   "source": [
    "## Project Stage - III (Basic Machine Learning & Interactive Visualizations)"
   ]
  },
  {
   "cell_type": "markdown",
   "metadata": {},
   "source": [
    "## Goals\n",
    "\n",
    "The goals of Stage III are:\n",
    "\n",
    "- To utlize machine learning and statistical models to predict the trend of COVID-19 cases / deaths.\n",
    "- Develop a simple interactive dashboard based on the analysis you have done so far. We will be utilizing Plotly (https://plotly.com/)\n",
    "\n"
   ]
  },
  {
   "cell_type": "markdown",
   "metadata": {},
   "source": [
    "# Tasks:\n",
    "\n",
    "## Task 1: (20%)\n",
    "- Team: \n",
    "    - Develop Linear and Non-Linear (polynomial) regression models for predicting cases and deaths in US. \n",
    "        - Start your data from the first day of infections in US. X-Axis - number of days since the first case, Y-Axis - number of new cases and deaths.\n",
    "        - Calculate and report Root Mean Square Error (RMSE) for your models (linear and non-linear). \n",
    "        - Discuss bias versus variance tradeoff.\n",
    "        - Describe the trends as compared to other countries. \n",
    "\n",
    "- Member: \n",
    "\n",
    "    - Utilize Linear and Non-Linear (polynomial) regression models to compare trends for a single state and its counties (top 5 with highest number of cases). Start your data from the first day of infections. \n",
    "        - X-Axis - number of days since the first case, Y - Axis number of new cases and deaths. Calcluate error using RMSE.\n",
    "        - Identify which counties are most at risk. Model for top 5 counties with cases within a state and describe their trends.\n",
    " \n",
    "     - Perform hypothesis tests on questions identified in Stage II. (Can determine new questions as well)\n",
    "        - e.x. *Does higher employment data (overall employment numbers) lead to higher covid case numbers or more rapid increase in covid cases.*. Here you would compare the covid cases to the state or county level enrichment data to prove or disprove your null hypothesis. In this case there will be a two tail - two sample t-test to see if there is a difference and then one-tail - two sample t-test to show higher or lower.\n",
    "        - Depending on your type of data you can also perform Chi-square test for categorical hypothesis testing. \n",
    "\n",
    "    \n",
    "## Task 2:(35%) \n",
    "- Member: \n",
    "    - For each of the Member analyses plot graphs\n",
    "        - trend line\n",
    "        - confidence intervals (error in prediction)\n",
    "        - prediction path (forecast)\n",
    "\n",
    "## Task 3: (%35) \n",
    "- Team:\n",
    "    - Plotly:\n",
    "        - Incorporate your best model prediction trend line - Linear / Non-Linear. \n",
    "        - Ex: https://ourworldindata.org/coronavirus\n",
    "        - Plot the trend line using moving average (https://en.wikipedia.org/wiki/Moving_average).\n",
    "        - Use 7-day rolling average. (10)\n",
    "    - Map \n",
    "        - Show US map of cases or deaths (normalized by population). Entire US with county level information. Use mean of county population to normalize for cases and deaths. (10)\n",
    "        - Ex: https://coronavirus.jhu.edu/us-map\n",
    "\n",
    "## Project Check-ins (10%) :\n",
    "- Member: \n",
    "    - Check-in: 4/6/22 \n",
    "        - Make **some meaningful** progress on Tasks available to view on Github. \n",
    "        - Contributions viewed from git commits\n",
    "        - Meaningful does not mean an empty notebook or a few lines of code.\n",
    "        \n",
    "    - Check-in: 4/18/22 \n",
    "        - Make **some meaningful** progress on Tasks available to view on Github. \n",
    "        - Contributions viewed from git commits\n",
    "        - Meaningful does not mean an empty notebook or a few lines of code.\n",
    "            \n",
    "\n",
    "\n",
    "**Deliverable**\n",
    "- Each member creates separate notebooks for member tasks. Push all notebooks and reports to Github Repository. \n",
    "- Team should create one notebook for team tasks. Push notebook to Github Repository\n",
    "- ** Submit Link to Github no Video... ** \n",
    "    - Your code is ran at it's current state at time of submission\n",
    "\n",
    "**Notes:**\n",
    "\n",
    "- Late Policy for Project: \n",
    "    - 20% after deadline\n",
    "    - 10 % off for each additional day it is missing\n",
    "- Plagiarism policy: see syllabus\n",
    "    \n",
    "- If your code does not run, you will recieve a 0, with no chance to make it up"
   ]
  },
  {
   "cell_type": "markdown",
   "metadata": {},
   "source": [
    "## Deliverable Deadline: 04/24/2022 11:59PM EST"
   ]
  },
  {
   "cell_type": "code",
   "execution_count": null,
   "metadata": {},
   "outputs": [],
   "source": []
  }
 ],
 "metadata": {
  "kernelspec": {
   "display_name": "Python 3 (ipykernel)",
   "language": "python",
   "name": "python3"
  },
  "language_info": {
   "codemirror_mode": {
    "name": "ipython",
    "version": 3
   },
   "file_extension": ".py",
   "mimetype": "text/x-python",
   "name": "python",
   "nbconvert_exporter": "python",
   "pygments_lexer": "ipython3",
   "version": "3.9.7"
  },
  "nteract": {
   "version": "0.28.0"
  }
 },
 "nbformat": 4,
 "nbformat_minor": 4
}
