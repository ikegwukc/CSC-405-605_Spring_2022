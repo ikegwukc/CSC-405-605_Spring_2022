{
 "cells": [
  {
   "cell_type": "markdown",
   "metadata": {},
   "source": [
    "## Project Stage - II (Data Modeling and Hypothesis Testing)"
   ]
  },
  {
   "cell_type": "markdown",
   "metadata": {},
   "source": [
    "## Goals\n",
    "\n",
    "The goal of Stage II is to develop formal hypothesis tests for the intuitions you had in Stage I and utilize statistical modeling to prove/disprove them."
   ]
  },
  {
   "cell_type": "markdown",
   "metadata": {},
   "source": [
    "### Tasks:\n",
    "\n",
    "#### Task 1: (50 pts)\n",
    "- Team: (25)\n",
    "    - Compare the weekly statistics (mean, median, mode) for number of new cases and deaths across US. You are calculating mean (rounded to integer value) number of new cases  per week and then calculating (mean, median, mode) for all week taken together. \n",
    "    - Compare the data against other countries of the world. Data at: https://ourworldindata.org/coronavirus-source-data\n",
    "        - Choose atleast 5 similar populations countries to compare. \n",
    "    - Plot daily trends (cases and deaths) of US and compare other countries. Utilize aggregrate, normalized by population (ex: number of cases per 100,000), difference in cases (new cases), and log normalized values. \n",
    "    - Identify peak week of the cases and deaths in US and other countries. Try to do background research to see what the reasoning for the peaks can be (holidays, vacations, travel, etc).\n",
    "- Member: (25 pts)\n",
    "    - Generate weekly statistics (mean, median, mode) for number of new cases and deaths across a specific state. \n",
    "    - Compare the data against other states. (normalize by population)\n",
    "    - Identify counties within the previous state with high case and death rates. (normalize by population)\n",
    "    - Plot daily trends (new cases and deaths) of state and top 5 infected counties. Utilize aggregrate, normalized by population, and log normalized values. \n",
    "    \n",
    "#### Task 2: (50 pts)\n",
    "- Member:\n",
    "    - Fit a distribution to the number of COVID-19 **new** cases of a state of your choosing. \n",
    "        - Graphically plot the distribution and describe the distribution statistics. If using discrete values, calculate the Probability Mass Function for the individual values or range (if using histogram) and plot that.\n",
    "        - Describe the type of distribution (modality) and its statistics (moments of a distribution - center, variance, skewness, kurtosis) in the report and the notebook.\n",
    "        - Compare the distribution and its statistics to 5 other states of your choosing. \n",
    "    - Model a poission distribution of COVID-19 cases and deaths of a state and compare to other 5 states. For example, number of new cases and deaths per 100,000 population. Hint - the parameter for a poission's distribution will be its mean value. Then for the minimum and maximum range of covid cases you are calculating probability mass function to observe the probability at different points. \n",
    "    - Model poission distributions for North Carolina counties COVID-19 in cases and deaths. For example, number of new cases and deaths per 100,000 populations. \n",
    "    \n",
    "    - Perform corelation between Enrichment data variables and COVID-19 cases to observe any patterns.\n",
    "        - You can compare either within your chosen specific state or among different states with the different enrichment variables. Within the state you can compare the county based covid data to enrichment data for correlation. Between states you would need to aggregate to state level data and then perform correlation. Both covid and enrichment data will need to be normalized for population. For number of covid cases you can use a measure of center value (median or mean) to compare the number of cases. \n",
    "    - Formulate hypothesis between Enrichment data and number of cases to be compared against states. Choose 3 different variables to compare against. \n",
    "        - For example: *Does higher employment data lead to higher covid case numbers or more rapid increase in covid cases.* \n",
    "\n",
    "\n",
    "**Deliverable**\n",
    "- Each member creates separate notebooks for member tasks. Upload all notebooks and reports to Github Repository. \n",
    "- Presentation recordings on canvas.\n"
   ]
  },
  {
   "cell_type": "markdown",
   "metadata": {},
   "source": [
    "## Deadline: 03/20/2022"
   ]
  },
  {
   "cell_type": "code",
   "execution_count": null,
   "metadata": {},
   "outputs": [],
   "source": []
  }
 ],
 "metadata": {
  "kernelspec": {
   "display_name": "Python 3",
   "language": "python",
   "name": "python3"
  },
  "language_info": {
   "codemirror_mode": {
    "name": "ipython",
    "version": 3
   },
   "file_extension": ".py",
   "mimetype": "text/x-python",
   "name": "python",
   "nbconvert_exporter": "python",
   "pygments_lexer": "ipython3",
   "version": "3.8.2"
  },
  "nteract": {
   "version": "0.28.0"
  }
 },
 "nbformat": 4,
 "nbformat_minor": 4
}
