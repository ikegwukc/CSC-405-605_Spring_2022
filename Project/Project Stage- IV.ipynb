{
 "cells": [
  {
   "cell_type": "markdown",
   "metadata": {},
   "source": [
    "## Project Stage - IV (Presentation)"
   ]
  },
  {
   "cell_type": "markdown",
   "metadata": {},
   "source": [
    "## Tasks:\n",
    "\n",
    "**Deliverable**\n",
    "- GitHub Repo should be up to date\n",
    "    - Any contributions after the deadline from **any** member will result in the submission being counted as late.\n",
    "- **Submit Presentation on Canvas**\n",
    "    - Create gifs or screenshot any interactive graphs and embed in your presentation.\n",
    "    - This is the presentation that will be used... \n",
    "- 15 Minute **In-Class** Presentation\n",
    "    - 12 Minutes to Present\n",
    "    - 3 Minutes for Questions\n",
    "    - Presentation should contain relevant information for:\n",
    "        1. The data you use\n",
    "        2. Hypothesis Testinng\n",
    "        3. Models and Predictions\n",
    "        4. Visualizations throughout the presentation to enhance it\n",
    "        \n",
    "Late policy:\n",
    "- Submission on 04/25/2022: -20% off final grade\n",
    "- Submission on 04/26/2022:  additional -10% off final grade\n",
    "- After 4/26/22 no late submissions accepted\n",
    "\n",
    "Plagiarism policy: see syllabus"
   ]
  },
  {
   "cell_type": "markdown",
   "metadata": {},
   "source": [
    "## Submission Deadline:  04/24/2022 11:59 PM\n",
    "\n",
    "\n",
    "Presentation Schedule: \n",
    "\n",
    "- 04/25/2022\n",
    "    - Group 1: 5:30 PM - 5:45PM\n",
    "    - Group 2: 5:45 PM - 6:00PM \n",
    "    - Group 3: 6:00 PM - 6:15PM\n",
    "    - Group 4: 6:15 PM - 6:30PM\n",
    "    \n",
    "- 04/27/2022\n",
    "    - Group 5: 5:30 PM - 5:45PM\n",
    "    - Group 6: 5:45 PM - 6:00PM \n",
    "    - Group 7: 6:00 PM - 6:15PM\n",
    "    - Group 8: 6:15 PM - 6:30PM"
   ]
  },
  {
   "cell_type": "markdown",
   "metadata": {},
   "source": [
    "# Rubric\n",
    "\n",
    "![](image/rubric.png)"
   ]
  },
  {
   "cell_type": "code",
   "execution_count": null,
   "metadata": {},
   "outputs": [],
   "source": []
  }
 ],
 "metadata": {
  "kernelspec": {
   "display_name": "Python 3 (ipykernel)",
   "language": "python",
   "name": "python3"
  },
  "language_info": {
   "codemirror_mode": {
    "name": "ipython",
    "version": 3
   },
   "file_extension": ".py",
   "mimetype": "text/x-python",
   "name": "python",
   "nbconvert_exporter": "python",
   "pygments_lexer": "ipython3",
   "version": "3.9.7"
  },
  "nteract": {
   "version": "0.28.0"
  }
 },
 "nbformat": 4,
 "nbformat_minor": 4
}
