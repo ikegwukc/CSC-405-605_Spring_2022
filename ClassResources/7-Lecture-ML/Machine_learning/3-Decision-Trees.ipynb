{
 "cells": [
  {
   "cell_type": "markdown",
   "metadata": {
    "slideshow": {
     "slide_type": "slide"
    }
   },
   "source": [
    "# Supervised Learning: Decision Trees"
   ]
  },
  {
   "cell_type": "markdown",
   "metadata": {
    "slideshow": {
     "slide_type": "fragment"
    }
   },
   "source": [
    "||continuous|categorical|\n",
    "|---|---|---|\n",
    "|**supervised**|**regression**|**classification**|\n",
    "|unsupervised|dimension reduction|clustering|\n",
    "\n",
    "Here we'll take a look at motivating another powerful algorithm (*non-parametric*) - **Decision Trees**. "
   ]
  },
  {
   "cell_type": "code",
   "execution_count": 2,
   "metadata": {
    "slideshow": {
     "slide_type": "skip"
    },
    "tags": []
   },
   "outputs": [],
   "source": [
    "%matplotlib inline\n",
    "import numpy as np\n",
    "import matplotlib.pyplot as plt\n",
    "from scipy import stats\n",
    "from sklearn.multiclass import OneVsRestClassifier\n",
    "from sklearn.metrics import roc_curve, auc\n",
    "from sklearn.preprocessing import label_binarize\n",
    "\n",
    "# use seaborn plotting defaults\n",
    "import seaborn as sns; sns.set()\n",
    "\n",
    "# import warnings\n",
    "# warnings.filterwarnings('ignore')"
   ]
  },
  {
   "cell_type": "markdown",
   "metadata": {
    "slideshow": {
     "slide_type": "slide"
    }
   },
   "source": [
    "## Decision Trees"
   ]
  },
  {
   "cell_type": "markdown",
   "metadata": {
    "slideshow": {
     "slide_type": "fragment"
    }
   },
   "source": [
    "Decision trees are extremely intuitive ways to classify or label objects: you simply ask a series of questions designed to zero-in on the classification.\n",
    "\n",
    "- An inductive learning task\n",
    "    - Use particular facts to make more generalized conclusions\n",
    "\n",
    "- A predictive model based on a branching series of Boolean tests\n",
    "    - These smaller Boolean tests are less complex than a one-stage classifier\n",
    "\n",
    "Let’s look at a sample decision tree…\n"
   ]
  },
  {
   "cell_type": "markdown",
   "metadata": {
    "slideshow": {
     "slide_type": "subslide"
    }
   },
   "source": [
    "<center><img src=\"./images/dt1.png\" class=\"center\" alt=\"Decision Tree\" style=\"width: 600px;\"/>\n",
    "</center>"
   ]
  },
  {
   "cell_type": "markdown",
   "metadata": {
    "slideshow": {
     "slide_type": "fragment"
    }
   },
   "source": [
    "### Question: If we leave at 10 AM and there are no cars stalled on the road, what will our commute time be?"
   ]
  },
  {
   "cell_type": "markdown",
   "metadata": {
    "slideshow": {
     "slide_type": "subslide"
    }
   },
   "source": [
    "- In this decision tree, we made a series of Boolean decisions and followed the corresponding branch\n",
    "    - Did we leave at 10 AM?\n",
    "    - Did a car stall on the road?\n",
    "    - Is there an accident on the road?"
   ]
  },
  {
   "cell_type": "markdown",
   "metadata": {
    "slideshow": {
     "slide_type": "fragment"
    }
   },
   "source": [
    "- By answering each of these yes/no questions, we then came to a conclusion on how long our commute might take"
   ]
  },
  {
   "cell_type": "markdown",
   "metadata": {
    "slideshow": {
     "slide_type": "slide"
    }
   },
   "source": [
    "### How to Create a Decision Tree!"
   ]
  },
  {
   "cell_type": "markdown",
   "metadata": {
    "slideshow": {
     "slide_type": "fragment"
    }
   },
   "source": [
    "- We first make a list of attributes that we can measure\n",
    "    - These attributes (for now) must be discrete\n",
    "\n",
    "\n",
    "- We then choose a *target attribute* (**Y**) that we want to predict\n",
    "\n",
    "\n",
    "- Then create an *experience table* (**X**) that lists what we have seen in the past\n"
   ]
  },
  {
   "cell_type": "markdown",
   "metadata": {
    "slideshow": {
     "slide_type": "subslide"
    }
   },
   "source": [
    "#### Sample Experience Table\n",
    "\n",
    "<center><img src=\"./images/dt2.png\" class=\"center\" alt=\"Decision Tree\" style=\"width: 800px;\"/>\n",
    "</center>"
   ]
  },
  {
   "cell_type": "markdown",
   "metadata": {
    "slideshow": {
     "slide_type": "slide"
    }
   },
   "source": [
    "### Choosing Attributes"
   ]
  },
  {
   "cell_type": "markdown",
   "metadata": {
    "slideshow": {
     "slide_type": "fragment"
    }
   },
   "source": [
    "- The previous experience decision table showed 4 attributes: hour, weather, accident and stall\n",
    "\n",
    "\n",
    "- But the decision tree only showed 3 attributes: hour, accident and stall\n",
    "\n",
    "\n",
    "- Why is that?\n"
   ]
  },
  {
   "cell_type": "markdown",
   "metadata": {
    "slideshow": {
     "slide_type": "subslide"
    }
   },
   "source": [
    "- Methods for selecting attributes (which will be described later) show that weather is not a discriminating attribute\n",
    "\n",
    "\n",
    "- We use the principle of *Occam’s Razor*:  Given a number of competing hypotheses, the simplest one is preferable\n"
   ]
  },
  {
   "cell_type": "markdown",
   "metadata": {
    "slideshow": {
     "slide_type": "subslide"
    }
   },
   "source": [
    "- The basic structure of creating a decision tree is the same for most decision tree algorithms\n",
    "\n",
    "\n",
    "- The difference lies in how we select the attributes for the tree\n",
    "\n",
    "\n",
    "- We will focus on the ID3 algorithm developed by Ross Quinlan in 1975\n"
   ]
  },
  {
   "cell_type": "markdown",
   "metadata": {
    "slideshow": {
     "slide_type": "slide"
    }
   },
   "source": [
    "### Decision Treee Algorithm"
   ]
  },
  {
   "cell_type": "markdown",
   "metadata": {
    "slideshow": {
     "slide_type": "fragment"
    }
   },
   "source": [
    "- The basic idea behind any decision tree algorithm is as follows:\n",
    "    \n",
    "    \n",
    "    - Choose the best attribute(s) to split the remaining instances and make that attribute a decision node\n",
    "    \n",
    "    \n",
    "    - Repeat this process for recursively for each child\n",
    "    \n",
    "    \n",
    "    - Stop when:\n",
    "        - All the instances have the same target attribute value\n",
    "        - There are no more attributes\n",
    "        - There are no more instances\n"
   ]
  },
  {
   "cell_type": "markdown",
   "metadata": {
    "slideshow": {
     "slide_type": "slide"
    }
   },
   "source": [
    "### Identifying the Best Attributes"
   ]
  },
  {
   "cell_type": "markdown",
   "metadata": {
    "slideshow": {
     "slide_type": "fragment"
    }
   },
   "source": [
    "- Refer back to our original decision tree\n",
    "\n",
    "<center><img src=\"./images/dt3.png\" class=\"center\" alt=\"Decision Tree\" style=\"width: 600px;\"/>\n",
    "</center>"
   ]
  },
  {
   "cell_type": "markdown",
   "metadata": {
    "slideshow": {
     "slide_type": "subslide"
    }
   },
   "source": [
    "- How did we know to split on leave at and then on stall and accident and not weather?\n"
   ]
  },
  {
   "cell_type": "markdown",
   "metadata": {
    "slideshow": {
     "slide_type": "fragment"
    }
   },
   "source": [
    "- ID3 splits on attributes with the lowest entropy"
   ]
  },
  {
   "cell_type": "markdown",
   "metadata": {
    "slideshow": {
     "slide_type": "subslide"
    }
   },
   "source": [
    "#### Entropy\n",
    "\n",
    "- We calculate the entropy for all values of an attribute as the weighted sum of subset entropies as follows:\n",
    "    $$ \\sum_{i=1}^{k} |S_i| / |S| Entropy (S_i) $$\n",
    "    - where, k is the range of the attribute we are testing\n",
    "\n",
    "\n",
    "#### Information Gain\n",
    "\n",
    "- We can also measure information gain (which is inversely proportional to entropy) as follows:\n",
    "     $$ Entropy(S) - \\sum_{i=1}^{k} |S_i| / |S| Entropy (S_i) $$\n"
   ]
  },
  {
   "cell_type": "markdown",
   "metadata": {
    "slideshow": {
     "slide_type": "slide"
    }
   },
   "source": [
    "### Information Gain\n",
    "\n",
    "<center>\n",
    "    \n",
    "    <div id=\"container\"> <img src=\"./images/dt5.png\" class=\"center\" alt=\"Decision Tree1\" style=\"width: 400px;\"/> \n",
    "    **Split over attribute 1**\n",
    "   \n",
    "</center>\n",
    "\n"
   ]
  },
  {
   "cell_type": "markdown",
   "metadata": {
    "slideshow": {
     "slide_type": "subslide"
    }
   },
   "source": [
    "<center>\n",
    "    \n",
    "    <div id=\"container\"> <img src=\"./images/dt6.png\" class=\"center\" alt=\"Decision Tree1\" style=\"width: 540px;\"/> \n",
    "    **Split over attribute 2**\n",
    "   \n",
    "</center>"
   ]
  },
  {
   "cell_type": "markdown",
   "metadata": {
    "slideshow": {
     "slide_type": "subslide"
    }
   },
   "source": [
    "#### Entropy - A measure for impurity\n",
    "\n",
    "- Are you able to differentiate the classes based on the attribute split?\n",
    "\n",
    "<center>\n",
    "    \n",
    "    <div id=\"container\"> <img src=\"./images/dt7.png\" class=\"center\" alt=\"Decision Tree1\" style=\"width: 200px;\"/> \n",
    "    **Impure**\n",
    "   \n",
    "</center>"
   ]
  },
  {
   "cell_type": "markdown",
   "metadata": {
    "slideshow": {
     "slide_type": "subslide"
    }
   },
   "source": [
    "<center>\n",
    "    \n",
    "    <div id=\"container\"> <img src=\"./images/dt8.png\" class=\"center\" alt=\"Decision Tree1\" style=\"width: 200px;\"/> \n",
    "    **Pure**\n",
    "   \n",
    "</center>"
   ]
  },
  {
   "cell_type": "markdown",
   "metadata": {
    "slideshow": {
     "slide_type": "subslide"
    }
   },
   "source": [
    "$$ Entropy = \\sum_{i} - p_i \\log_{2} p_i$$\n",
    "where, \n",
    "- $p_i$ is the probability of class $i$"
   ]
  },
  {
   "cell_type": "markdown",
   "metadata": {
    "slideshow": {
     "slide_type": "subslide"
    }
   },
   "source": [
    "#### Lets look at an example\n",
    "\n",
    "   \n",
    "<center>\n",
    "<div id=\"container\"> <img src=\"./images/dt9.png\" class=\"center\" alt=\"Decision Tree1\" style=\"width: 200px;\"/> \n",
    "   \n",
    "</center>\n",
    "\n",
    "\n",
    "- The example has two classes:\n",
    "    - Total samples\n",
    "        - Red - 16 instances\n",
    "        - Yellow - 14 instances"
   ]
  },
  {
   "cell_type": "markdown",
   "metadata": {
    "slideshow": {
     "slide_type": "subslide"
    }
   },
   "source": [
    "- $p_{red} = 16/30$ \n",
    "    - $\\log_{2}(16/30) = -0.9$\n",
    "- $p_{yellow} = 14/30$ \n",
    "    - $\\log_{2}(14/30) = -1.1$\n",
    "\n",
    "$$Entropy = -(16/30)(-0.9) - (14/30)(-1.1) = .99$$"
   ]
  },
  {
   "cell_type": "markdown",
   "metadata": {
    "slideshow": {
     "slide_type": "subslide"
    }
   },
   "source": [
    "### Information Gain - In Decision Tree\n",
    "\n",
    "   \n",
    "<center>\n",
    "<div id=\"container\"> <img src=\"./images/dt10.png\" class=\"center\" alt=\"Decision Tree1\" style=\"width: 600px;\"/> \n",
    "       \n",
    "</center>"
   ]
  },
  {
   "cell_type": "markdown",
   "metadata": {
    "slideshow": {
     "slide_type": "subslide"
    }
   },
   "source": [
    "$$Entropy_{Parent} = -(\\frac{14}{30}*\\log_{2}\\frac{14}{30}) - (\\frac{16}{30}*\\log_{2}\\frac{16}{30}) = 0.996$$\n",
    "\n",
    "$$Entropy_{Child1} = -(\\frac{13}{30}*\\log_{2}\\frac{13}{30}) - (\\frac{4}{30}*\\log_{2}\\frac{4}{30}) = 0.787$$\n",
    "\n",
    "$$Entropy_{Child2} = -(\\frac{1}{30}*\\log_{2}\\frac{1}{30}) - (\\frac{12}{30}*\\log_{2}\\frac{12}{30}) = 0.391$$\n",
    "\n",
    "$$Entropy_{Children}^{Weighted} = (\\frac{17}{30}*0.787) + (\\frac{13}{30}*0.391) = 0.615$$\n",
    "\n",
    "$$\\textbf{Information-Gain} = 0.996 - 0.615 = 0.38$$\n",
    "\n",
    "\n",
    "\n",
    "\n",
    "- ***The goal is to maximize $\\textbf{Information-Gain}$ for a split***. \n",
    "    - This is the intution behind Decision trees"
   ]
  },
  {
   "cell_type": "markdown",
   "metadata": {},
   "source": [
    "   \n",
    "<center>\n",
    "<div id=\"container\"> <img src=\"./images/dt12.png\" class=\"center\" alt=\"Decision Tree1\" style=\"width: 900px;\"/> \n",
    "       \n",
    "</center>"
   ]
  },
  {
   "cell_type": "markdown",
   "metadata": {
    "slideshow": {
     "slide_type": "slide"
    }
   },
   "source": [
    "### Creating a Decision Tree\n",
    "\n",
    "Here's an example of a decision tree classifier in scikit-learn. We'll start by defining some two-dimensional labeled data:"
   ]
  },
  {
   "cell_type": "code",
   "execution_count": 3,
   "metadata": {
    "slideshow": {
     "slide_type": "fragment"
    }
   },
   "outputs": [
    {
     "data": {
      "image/png": "[encoded data removed]",
      "text/plain": [
       "<Figure size 432x288 with 1 Axes>"
      ]
     },
     "metadata": {},
     "output_type": "display_data"
    }
   ],
   "source": [
    "from sklearn.datasets import make_blobs\n",
    "\n",
    "X, y = make_blobs(n_samples=300, centers=4,\n",
    "                  random_state=0, cluster_std=1.0)\n",
    "plt.scatter(X[:, 0], X[:, 1], c=y, s=50, cmap='rainbow');"
   ]
  },
  {
   "cell_type": "markdown",
   "metadata": {
    "slideshow": {
     "slide_type": "subslide"
    }
   },
   "source": [
    "We have some convenience functions in the repository that help "
   ]
  },
  {
   "cell_type": "code",
   "execution_count": 4,
   "metadata": {
    "slideshow": {
     "slide_type": "fragment"
    },
    "tags": []
   },
   "outputs": [],
   "source": [
    "from fig_code import visualize_tree, plot_tree_interactive"
   ]
  },
  {
   "cell_type": "markdown",
   "metadata": {
    "slideshow": {
     "slide_type": "skip"
    }
   },
   "source": [
    "Now using IPython's ``interact`` (available in IPython 2.0+, and requires a live kernel) we can view the decision tree splits:"
   ]
  },
  {
   "cell_type": "code",
   "execution_count": 5,
   "metadata": {
    "slideshow": {
     "slide_type": "subslide"
    }
   },
   "outputs": [
    {
     "name": "stderr",
     "output_type": "stream",
     "text": [
      "/Users/jarvis/opt/anaconda3/lib/python3.9/site-packages/IPython/html.py:12: ShimWarning: The `IPython.html` package has been deprecated since IPython 4.0. You should import from `notebook` instead. `IPython.html.widgets` has moved to `ipywidgets`.\n",
      "  warn(\"The `IPython.html` package has been deprecated since IPython 4.0. \"\n"
     ]
    },
    {
     "data": {
      "application/vnd.jupyter.widget-view+json": {
       "model_id": "c04ffeb14f99443fae9634778848e2a8",
       "version_major": 2,
       "version_minor": 0
      },
      "text/plain": [
       "interactive(children=(Dropdown(description='depth', options=(1, 2, 3, 4, 5), value=1), Output()), _dom_classes…"
      ]
     },
     "metadata": {},
     "output_type": "display_data"
    }
   ],
   "source": [
    "plot_tree_interactive(X, y);"
   ]
  },
  {
   "cell_type": "markdown",
   "metadata": {
    "slideshow": {
     "slide_type": "subslide"
    }
   },
   "source": [
    "Notice that at each increase in depth, every node is split in two **except** those nodes which contain only a single class.\n",
    "The result is a very fast **non-parametric** classification, and can be extremely useful in practice.\n",
    "\n",
    "**Question: Do you see any problems with this?**"
   ]
  },
  {
   "cell_type": "markdown",
   "metadata": {
    "slideshow": {
     "slide_type": "subslide"
    }
   },
   "source": [
    "## Problems with Decision Trees!\n",
    "\n",
    "- While decision trees classify quickly, the time for building a tree may be higher than another type of classifier\n",
    "\n",
    "- Decision trees suffer from a problem of errors propagating throughout a tree\n",
    "    - A very serious problem as the number of classes increases\n"
   ]
  },
  {
   "cell_type": "markdown",
   "metadata": {
    "slideshow": {
     "slide_type": "subslide"
    }
   },
   "source": [
    "#### Error Propagation\n",
    "\n",
    "- Since decision trees work by a series of local decisions, what happens when one of these local decisions is wrong?\n",
    "    - Every decision from that point on may be wrong\n",
    "    - We may never return to the correct path of the tree\n",
    "    \n",
    "- **Decision Trees have very high variance**\n"
   ]
  },
  {
   "cell_type": "markdown",
   "metadata": {
    "slideshow": {
     "slide_type": "subslide"
    }
   },
   "source": [
    "### Decision Trees and over-fitting\n",
    "\n",
    "One issue with decision trees is that it is very easy to create trees which **over-fit** the data. That is, they are flexible enough that they can learn the structure of the noise in the data rather than the signal! For example, take a look at two trees built on two subsets of this dataset:"
   ]
  },
  {
   "cell_type": "code",
   "execution_count": 6,
   "metadata": {
    "slideshow": {
     "slide_type": "subslide"
    }
   },
   "outputs": [
    {
     "name": "stderr",
     "output_type": "stream",
     "text": [
      "/Users/jarvis/GoogleDrive/Work/UNCG/CSC-405-605_Sring_2022/ClassResources/7-Lecture-ML/Machine_learning/fig_code/figures.py:72: MatplotlibDeprecationWarning: shading='flat' when X and Y have the same dimensions as C is deprecated since 3.3.  Either specify the corners of the quadrilaterals with X and Y, or pass shading='auto', 'nearest' or 'gouraud', or set rcParams['pcolor.shading'].  This will become an error two minor releases later.\n",
      "  plt.pcolormesh(xx, yy, Z, alpha=0.2, cmap='rainbow')\n",
      "/Users/jarvis/GoogleDrive/Work/UNCG/CSC-405-605_Sring_2022/ClassResources/7-Lecture-ML/Machine_learning/fig_code/figures.py:72: MatplotlibDeprecationWarning: shading='flat' when X and Y have the same dimensions as C is deprecated since 3.3.  Either specify the corners of the quadrilaterals with X and Y, or pass shading='auto', 'nearest' or 'gouraud', or set rcParams['pcolor.shading'].  This will become an error two minor releases later.\n",
      "  plt.pcolormesh(xx, yy, Z, alpha=0.2, cmap='rainbow')\n"
     ]
    },
    {
     "data": {
      "text/plain": [
       "<Figure size 432x288 with 0 Axes>"
      ]
     },
     "metadata": {},
     "output_type": "display_data"
    },
    {
     "data": {
      "image/png": "[encoded data removed]",
      "text/plain": [
       "<Figure size 432x288 with 1 Axes>"
      ]
     },
     "metadata": {},
     "output_type": "display_data"
    },
    {
     "data": {
      "text/plain": [
       "<Figure size 432x288 with 0 Axes>"
      ]
     },
     "metadata": {},
     "output_type": "display_data"
    },
    {
     "data": {
      "image/png": "[encoded data removed]",
      "text/plain": [
       "<Figure size 432x288 with 1 Axes>"
      ]
     },
     "metadata": {},
     "output_type": "display_data"
    }
   ],
   "source": [
    "from sklearn.tree import DecisionTreeClassifier\n",
    "clf = DecisionTreeClassifier()\n",
    "\n",
    "plt.figure()\n",
    "visualize_tree(clf, X[:200], y[:200], boundaries=False)\n",
    "plt.figure()\n",
    "visualize_tree(clf, X[-200:], y[-200:], boundaries=False)"
   ]
  },
  {
   "cell_type": "markdown",
   "metadata": {
    "slideshow": {
     "slide_type": "subslide"
    }
   },
   "source": [
    "The details of the classifications are completely different! That is an indication of **over-fitting**: when you predict the value for a new point, the result is more reflective of the noise in the model rather than the signal."
   ]
  },
  {
   "cell_type": "markdown",
   "metadata": {
    "slideshow": {
     "slide_type": "subslide"
    }
   },
   "source": [
    "### Avoiding Overfitting\n",
    "\n",
    "- Stop growing when data split is not statistically significant\n",
    "\n",
    "- Get more data\n",
    "\n",
    "- Remove non-relevant attribtutes - Feature Tuning \n",
    "\n",
    "- Pruning \n",
    "    - Grow full tree and then remove branches with low information gain"
   ]
  },
  {
   "cell_type": "code",
   "execution_count": null,
   "metadata": {},
   "outputs": [],
   "source": []
  }
 ],
 "metadata": {
  "celltoolbar": "Slideshow",
  "kernelspec": {
   "display_name": "Python 3 (ipykernel)",
   "language": "python",
   "name": "python3"
  },
  "language_info": {
   "codemirror_mode": {
    "name": "ipython",
    "version": 3
   },
   "file_extension": ".py",
   "mimetype": "text/x-python",
   "name": "python",
   "nbconvert_exporter": "python",
   "pygments_lexer": "ipython3",
   "version": "3.9.7"
  }
 },
 "nbformat": 4,
 "nbformat_minor": 4
}
