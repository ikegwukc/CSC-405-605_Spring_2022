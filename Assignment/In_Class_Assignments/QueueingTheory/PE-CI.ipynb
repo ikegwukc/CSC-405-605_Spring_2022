{
 "cells": [
  {
   "cell_type": "markdown",
   "id": "05cfe172-7b63-491a-b4bb-0611d1403433",
   "metadata": {},
   "source": [
    "# Point Estimates and CI"
   ]
  },
  {
   "cell_type": "code",
   "execution_count": 1,
   "id": "a034531a-2900-4d39-b6bd-fd63075a521b",
   "metadata": {},
   "outputs": [],
   "source": [
    "import pandas as pd\n",
    "import numpy as np\n",
    "\n",
    "import matplotlib.pyplot as plt\n"
   ]
  },
  {
   "cell_type": "code",
   "execution_count": 2,
   "id": "62371a92-a716-4f8b-8b35-64c9efdb0a93",
   "metadata": {},
   "outputs": [
    {
     "data": {
      "text/html": [
       "<div>\n",
       "<style scoped>\n",
       "    .dataframe tbody tr th:only-of-type {\n",
       "        vertical-align: middle;\n",
       "    }\n",
       "\n",
       "    .dataframe tbody tr th {\n",
       "        vertical-align: top;\n",
       "    }\n",
       "\n",
       "    .dataframe thead th {\n",
       "        text-align: right;\n",
       "    }\n",
       "</style>\n",
       "<table border=\"1\" class=\"dataframe\">\n",
       "  <thead>\n",
       "    <tr style=\"text-align: right;\">\n",
       "      <th></th>\n",
       "      <th>ID</th>\n",
       "      <th>ArrivalDate</th>\n",
       "      <th>ServiceDate</th>\n",
       "      <th>DepartureDate</th>\n",
       "    </tr>\n",
       "  </thead>\n",
       "  <tbody>\n",
       "    <tr>\n",
       "      <th>0</th>\n",
       "      <td>6864723080599622060915876765390144529</td>\n",
       "      <td>2021-01-01 08:30:01.222868100</td>\n",
       "      <td>2021-01-01 08:39:03.333848940</td>\n",
       "      <td>2021-01-01 08:40:27.932733660</td>\n",
       "    </tr>\n",
       "    <tr>\n",
       "      <th>1</th>\n",
       "      <td>203357365385066636014451201901804032427</td>\n",
       "      <td>2021-01-01 08:30:01.671390000</td>\n",
       "      <td>2021-01-01 08:39:11.346811500</td>\n",
       "      <td>2021-01-01 08:40:17.102055960</td>\n",
       "    </tr>\n",
       "    <tr>\n",
       "      <th>2</th>\n",
       "      <td>116029838208850048074276845233524331871</td>\n",
       "      <td>2021-01-01 08:31:00.772814640</td>\n",
       "      <td>2021-01-01 08:40:04.680870000</td>\n",
       "      <td>2021-01-01 08:42:37.294710419</td>\n",
       "    </tr>\n",
       "    <tr>\n",
       "      <th>3</th>\n",
       "      <td>310615008049721526192877250301295600071</td>\n",
       "      <td>2021-01-01 08:33:05.254060920</td>\n",
       "      <td>2021-01-01 08:42:55.617273900</td>\n",
       "      <td>2021-01-01 09:49:12.947556960</td>\n",
       "    </tr>\n",
       "    <tr>\n",
       "      <th>4</th>\n",
       "      <td>89105072554443203398010006189702582842</td>\n",
       "      <td>2021-01-01 08:34:04.582200000</td>\n",
       "      <td>2021-01-01 08:44:28.205282640</td>\n",
       "      <td>2021-01-01 09:37:12.185124960</td>\n",
       "    </tr>\n",
       "  </tbody>\n",
       "</table>\n",
       "</div>"
      ],
      "text/plain": [
       "                                        ID                   ArrivalDate  \\\n",
       "0    6864723080599622060915876765390144529 2021-01-01 08:30:01.222868100   \n",
       "1  203357365385066636014451201901804032427 2021-01-01 08:30:01.671390000   \n",
       "2  116029838208850048074276845233524331871 2021-01-01 08:31:00.772814640   \n",
       "3  310615008049721526192877250301295600071 2021-01-01 08:33:05.254060920   \n",
       "4   89105072554443203398010006189702582842 2021-01-01 08:34:04.582200000   \n",
       "\n",
       "                    ServiceDate                 DepartureDate  \n",
       "0 2021-01-01 08:39:03.333848940 2021-01-01 08:40:27.932733660  \n",
       "1 2021-01-01 08:39:11.346811500 2021-01-01 08:40:17.102055960  \n",
       "2 2021-01-01 08:40:04.680870000 2021-01-01 08:42:37.294710419  \n",
       "3 2021-01-01 08:42:55.617273900 2021-01-01 09:49:12.947556960  \n",
       "4 2021-01-01 08:44:28.205282640 2021-01-01 09:37:12.185124960  "
      ]
     },
     "execution_count": 2,
     "metadata": {},
     "output_type": "execute_result"
    }
   ],
   "source": [
    "Jan2021_df = pd.read_csv(\"../data/Jan2021.csv\", parse_dates=['ArrivalDate', \"ServiceDate\", \"DepartureDate\"])\n",
    "Feb2021_df = pd.read_csv(\"../data/Feb2021.csv\", parse_dates=['ArrivalDate', \"ServiceDate\", \"DepartureDate\"])\n",
    "Mar2021_df = pd.read_csv(\"../data/Mar2021.csv\", parse_dates=['ArrivalDate', \"ServiceDate\", \"DepartureDate\"])\n",
    "\n",
    "Jan2021_df.head()"
   ]
  },
  {
   "cell_type": "markdown",
   "id": "d3575982-df03-4c34-80f4-8b9b7f98eb0f",
   "metadata": {},
   "source": [
    "## Combine Data"
   ]
  },
  {
   "cell_type": "code",
   "execution_count": 3,
   "id": "b26af338-f972-4768-ab46-e2a545351fb3",
   "metadata": {},
   "outputs": [
    {
     "data": {
      "text/html": [
       "<div>\n",
       "<style scoped>\n",
       "    .dataframe tbody tr th:only-of-type {\n",
       "        vertical-align: middle;\n",
       "    }\n",
       "\n",
       "    .dataframe tbody tr th {\n",
       "        vertical-align: top;\n",
       "    }\n",
       "\n",
       "    .dataframe thead th {\n",
       "        text-align: right;\n",
       "    }\n",
       "</style>\n",
       "<table border=\"1\" class=\"dataframe\">\n",
       "  <thead>\n",
       "    <tr style=\"text-align: right;\">\n",
       "      <th></th>\n",
       "      <th>ID</th>\n",
       "      <th>ArrivalDate</th>\n",
       "      <th>ServiceDate</th>\n",
       "      <th>DepartureDate</th>\n",
       "    </tr>\n",
       "  </thead>\n",
       "  <tbody>\n",
       "    <tr>\n",
       "      <th>0</th>\n",
       "      <td>6864723080599622060915876765390144529</td>\n",
       "      <td>2021-01-01 08:30:01.222868100</td>\n",
       "      <td>2021-01-01 08:39:03.333848940</td>\n",
       "      <td>2021-01-01 08:40:27.932733660</td>\n",
       "    </tr>\n",
       "    <tr>\n",
       "      <th>1</th>\n",
       "      <td>203357365385066636014451201901804032427</td>\n",
       "      <td>2021-01-01 08:30:01.671390000</td>\n",
       "      <td>2021-01-01 08:39:11.346811500</td>\n",
       "      <td>2021-01-01 08:40:17.102055960</td>\n",
       "    </tr>\n",
       "    <tr>\n",
       "      <th>2</th>\n",
       "      <td>116029838208850048074276845233524331871</td>\n",
       "      <td>2021-01-01 08:31:00.772814640</td>\n",
       "      <td>2021-01-01 08:40:04.680870000</td>\n",
       "      <td>2021-01-01 08:42:37.294710419</td>\n",
       "    </tr>\n",
       "    <tr>\n",
       "      <th>3</th>\n",
       "      <td>310615008049721526192877250301295600071</td>\n",
       "      <td>2021-01-01 08:33:05.254060920</td>\n",
       "      <td>2021-01-01 08:42:55.617273900</td>\n",
       "      <td>2021-01-01 09:49:12.947556960</td>\n",
       "    </tr>\n",
       "    <tr>\n",
       "      <th>4</th>\n",
       "      <td>89105072554443203398010006189702582842</td>\n",
       "      <td>2021-01-01 08:34:04.582200000</td>\n",
       "      <td>2021-01-01 08:44:28.205282640</td>\n",
       "      <td>2021-01-01 09:37:12.185124960</td>\n",
       "    </tr>\n",
       "  </tbody>\n",
       "</table>\n",
       "</div>"
      ],
      "text/plain": [
       "                                        ID                   ArrivalDate  \\\n",
       "0    6864723080599622060915876765390144529 2021-01-01 08:30:01.222868100   \n",
       "1  203357365385066636014451201901804032427 2021-01-01 08:30:01.671390000   \n",
       "2  116029838208850048074276845233524331871 2021-01-01 08:31:00.772814640   \n",
       "3  310615008049721526192877250301295600071 2021-01-01 08:33:05.254060920   \n",
       "4   89105072554443203398010006189702582842 2021-01-01 08:34:04.582200000   \n",
       "\n",
       "                    ServiceDate                 DepartureDate  \n",
       "0 2021-01-01 08:39:03.333848940 2021-01-01 08:40:27.932733660  \n",
       "1 2021-01-01 08:39:11.346811500 2021-01-01 08:40:17.102055960  \n",
       "2 2021-01-01 08:40:04.680870000 2021-01-01 08:42:37.294710419  \n",
       "3 2021-01-01 08:42:55.617273900 2021-01-01 09:49:12.947556960  \n",
       "4 2021-01-01 08:44:28.205282640 2021-01-01 09:37:12.185124960  "
      ]
     },
     "execution_count": 3,
     "metadata": {},
     "output_type": "execute_result"
    }
   ],
   "source": [
    "quarter_df = pd.DataFrame()\n",
    "quarter_df = quarter_df.append(Jan2021_df, ignore_index=True)\n",
    "quarter_df = quarter_df.append(Feb2021_df, ignore_index=True)\n",
    "quarter_df = quarter_df.append(Mar2021_df, ignore_index=True)\n",
    "quarter_df.head()"
   ]
  },
  {
   "cell_type": "markdown",
   "id": "85274682-a004-43ee-bd0e-31867e2e0667",
   "metadata": {},
   "source": [
    "## Compute Service Times"
   ]
  },
  {
   "cell_type": "code",
   "execution_count": 4,
   "id": "7a165dd8-2080-4c6a-a01d-41d471baf845",
   "metadata": {},
   "outputs": [
    {
     "data": {
      "text/html": [
       "<div>\n",
       "<style scoped>\n",
       "    .dataframe tbody tr th:only-of-type {\n",
       "        vertical-align: middle;\n",
       "    }\n",
       "\n",
       "    .dataframe tbody tr th {\n",
       "        vertical-align: top;\n",
       "    }\n",
       "\n",
       "    .dataframe thead th {\n",
       "        text-align: right;\n",
       "    }\n",
       "</style>\n",
       "<table border=\"1\" class=\"dataframe\">\n",
       "  <thead>\n",
       "    <tr style=\"text-align: right;\">\n",
       "      <th></th>\n",
       "      <th>ID</th>\n",
       "      <th>ArrivalDate</th>\n",
       "      <th>ServiceDate</th>\n",
       "      <th>DepartureDate</th>\n",
       "      <th>ServiceTimes</th>\n",
       "      <th>ServiceTimesMin</th>\n",
       "    </tr>\n",
       "  </thead>\n",
       "  <tbody>\n",
       "    <tr>\n",
       "      <th>0</th>\n",
       "      <td>6864723080599622060915876765390144529</td>\n",
       "      <td>2021-01-01 08:30:01.222868100</td>\n",
       "      <td>2021-01-01 08:39:03.333848940</td>\n",
       "      <td>2021-01-01 08:40:27.932733660</td>\n",
       "      <td>0 days 00:09:02.110980840</td>\n",
       "      <td>9.033333</td>\n",
       "    </tr>\n",
       "    <tr>\n",
       "      <th>1</th>\n",
       "      <td>203357365385066636014451201901804032427</td>\n",
       "      <td>2021-01-01 08:30:01.671390000</td>\n",
       "      <td>2021-01-01 08:39:11.346811500</td>\n",
       "      <td>2021-01-01 08:40:17.102055960</td>\n",
       "      <td>0 days 00:09:09.675421500</td>\n",
       "      <td>9.150000</td>\n",
       "    </tr>\n",
       "    <tr>\n",
       "      <th>2</th>\n",
       "      <td>116029838208850048074276845233524331871</td>\n",
       "      <td>2021-01-01 08:31:00.772814640</td>\n",
       "      <td>2021-01-01 08:40:04.680870000</td>\n",
       "      <td>2021-01-01 08:42:37.294710419</td>\n",
       "      <td>0 days 00:09:03.908055360</td>\n",
       "      <td>9.050000</td>\n",
       "    </tr>\n",
       "    <tr>\n",
       "      <th>3</th>\n",
       "      <td>310615008049721526192877250301295600071</td>\n",
       "      <td>2021-01-01 08:33:05.254060920</td>\n",
       "      <td>2021-01-01 08:42:55.617273900</td>\n",
       "      <td>2021-01-01 09:49:12.947556960</td>\n",
       "      <td>0 days 00:09:50.363212980</td>\n",
       "      <td>9.833333</td>\n",
       "    </tr>\n",
       "    <tr>\n",
       "      <th>4</th>\n",
       "      <td>89105072554443203398010006189702582842</td>\n",
       "      <td>2021-01-01 08:34:04.582200000</td>\n",
       "      <td>2021-01-01 08:44:28.205282640</td>\n",
       "      <td>2021-01-01 09:37:12.185124960</td>\n",
       "      <td>0 days 00:10:23.623082640</td>\n",
       "      <td>10.383333</td>\n",
       "    </tr>\n",
       "  </tbody>\n",
       "</table>\n",
       "</div>"
      ],
      "text/plain": [
       "                                        ID                   ArrivalDate  \\\n",
       "0    6864723080599622060915876765390144529 2021-01-01 08:30:01.222868100   \n",
       "1  203357365385066636014451201901804032427 2021-01-01 08:30:01.671390000   \n",
       "2  116029838208850048074276845233524331871 2021-01-01 08:31:00.772814640   \n",
       "3  310615008049721526192877250301295600071 2021-01-01 08:33:05.254060920   \n",
       "4   89105072554443203398010006189702582842 2021-01-01 08:34:04.582200000   \n",
       "\n",
       "                    ServiceDate                 DepartureDate  \\\n",
       "0 2021-01-01 08:39:03.333848940 2021-01-01 08:40:27.932733660   \n",
       "1 2021-01-01 08:39:11.346811500 2021-01-01 08:40:17.102055960   \n",
       "2 2021-01-01 08:40:04.680870000 2021-01-01 08:42:37.294710419   \n",
       "3 2021-01-01 08:42:55.617273900 2021-01-01 09:49:12.947556960   \n",
       "4 2021-01-01 08:44:28.205282640 2021-01-01 09:37:12.185124960   \n",
       "\n",
       "               ServiceTimes  ServiceTimesMin  \n",
       "0 0 days 00:09:02.110980840         9.033333  \n",
       "1 0 days 00:09:09.675421500         9.150000  \n",
       "2 0 days 00:09:03.908055360         9.050000  \n",
       "3 0 days 00:09:50.363212980         9.833333  \n",
       "4 0 days 00:10:23.623082640        10.383333  "
      ]
     },
     "execution_count": 4,
     "metadata": {},
     "output_type": "execute_result"
    }
   ],
   "source": [
    "quarter_df['ServiceTimes'] = quarter_df['ServiceDate'] - quarter_df['ArrivalDate']\n",
    "quarter_df['ServiceTimesMin'] = quarter_df['ServiceTimes'].dt.seconds / 60\n",
    "quarter_df.head()"
   ]
  },
  {
   "cell_type": "markdown",
   "id": "72c9da1f-ab68-476c-be8c-346877da7aff",
   "metadata": {},
   "source": [
    "## Plot Janurary Data"
   ]
  },
  {
   "cell_type": "code",
   "execution_count": 5,
   "id": "7c54ec7b-060f-4978-985b-cf8a2583df04",
   "metadata": {},
   "outputs": [
    {
     "data": {
      "text/plain": [
       "Text(0.5, 1.0, '1st Quarter 2021 (Jan 2021- Mar 2021)')"
      ]
     },
     "execution_count": 5,
     "metadata": {},
     "output_type": "execute_result"
    },
    {
     "data": {
      "image/png": "[encoded data removed]",
      "text/plain": [
       "<Figure size 864x432 with 2 Axes>"
      ]
     },
     "metadata": {
      "needs_background": "light"
     },
     "output_type": "display_data"
    }
   ],
   "source": [
    "Jan2021_df['ServiceTimes'] = Jan2021_df['ServiceDate'] - Jan2021_df['ArrivalDate']\n",
    "Jan2021_df['ServiceTimesMin'] = Jan2021_df['ServiceTimes'].dt.seconds / 60\n",
    "\n",
    "fig, axs = plt.subplots(ncols=2, figsize=(12,6))\n",
    "\n",
    "axs[0].hist(Jan2021_df.ServiceTimesMin)\n",
    "\n",
    "axs[0].set_xlabel(\"Time in Minutes\")\n",
    "axs[0].set_ylabel('Counts')\n",
    "axs[0].set_title(\"Jan. 2021\")\n",
    "\n",
    "\n",
    "\n",
    "axs[1].hist(quarter_df.ServiceTimesMin)\n",
    "axs[1].set_xlabel(\"Time in Minutes\")\n",
    "axs[1].set_ylabel('Counts')\n",
    "axs[1].set_title(\"1st Quarter 2021 (Jan 2021- Mar 2021)\")"
   ]
  },
  {
   "cell_type": "markdown",
   "id": "319293dd-3bdb-4999-b9f1-7c3d278128ef",
   "metadata": {},
   "source": [
    "## Compute Point Estimates of Sample\n",
    "\n",
    "- Mean\n",
    "- Variance"
   ]
  },
  {
   "cell_type": "code",
   "execution_count": null,
   "id": "eed7ace7-bb2c-4d5b-8885-415e342cf2b6",
   "metadata": {},
   "outputs": [],
   "source": []
  },
  {
   "cell_type": "code",
   "execution_count": 6,
   "id": "900a7761-8923-421b-9d5d-74335d686164",
   "metadata": {},
   "outputs": [],
   "source": [
    "from scipy import stats"
   ]
  },
  {
   "cell_type": "markdown",
   "id": "2f4fc071-616e-4fab-acd6-7902ab867307",
   "metadata": {},
   "source": [
    "## 95% CI of Point Estimate"
   ]
  },
  {
   "cell_type": "code",
   "execution_count": null,
   "id": "ff0505b8-695f-419b-8f78-20d8d4acb245",
   "metadata": {},
   "outputs": [],
   "source": []
  },
  {
   "cell_type": "markdown",
   "id": "da8c1a1d-3515-4fe4-8c1e-86a0030ac0f2",
   "metadata": {},
   "source": [
    "## Does the Population Parameter fall within the CI? "
   ]
  },
  {
   "cell_type": "code",
   "execution_count": null,
   "id": "f280031c-6ced-466e-9e5b-dabd3e34abda",
   "metadata": {},
   "outputs": [],
   "source": []
  },
  {
   "cell_type": "markdown",
   "id": "5c40894a-a1e6-4f02-b570-335645b7ab39",
   "metadata": {},
   "source": [
    "# Hypothesis Testing "
   ]
  },
  {
   "cell_type": "markdown",
   "id": "8fa3e22a-7eda-4672-b907-585ae549a425",
   "metadata": {},
   "source": [
    "## Similar Mean 1st Month and 1st Quarter?"
   ]
  },
  {
   "cell_type": "code",
   "execution_count": null,
   "id": "9c567be2-3770-41af-a178-9857972dbfb8",
   "metadata": {},
   "outputs": [],
   "source": []
  },
  {
   "cell_type": "markdown",
   "id": "38554e91-36cc-44be-80e3-9be2658afc3b",
   "metadata": {},
   "source": [
    "# "
   ]
  },
  {
   "cell_type": "markdown",
   "id": "1d4e7334-f517-4325-81e0-ac41b9a4d442",
   "metadata": {},
   "source": [
    "# Do we meet our Targets for Number of Orders Late or Not Late?\n",
    "\n",
    "\n",
    "Greater than 8 Minutes is Late\n",
    "\n",
    "First Quarter we expect roughly 17000 orders to be ontime and 13000 to be late\n",
    "\n",
    "Are we close to our target?\n"
   ]
  },
  {
   "cell_type": "code",
   "execution_count": 7,
   "id": "384f90c6-47ce-4b84-b778-b5cc4eab2658",
   "metadata": {},
   "outputs": [],
   "source": [
    "# expect this amount\n",
    "expected = [17000, 13000] #[late, note late]\n",
    "\n",
    "quarter_df['OnTime'] = 0 \n",
    "quarter_df.loc[quarter_df.ServiceTimesMin > 8, \"OnTime\"] = 1\n"
   ]
  },
  {
   "cell_type": "code",
   "execution_count": null,
   "id": "9f03c639-377d-49d9-ae87-36cf8d2049ff",
   "metadata": {},
   "outputs": [],
   "source": []
  }
 ],
 "metadata": {
  "kernelspec": {
   "display_name": "Python 3",
   "language": "python",
   "name": "python3"
  },
  "language_info": {
   "codemirror_mode": {
    "name": "ipython",
    "version": 3
   },
   "file_extension": ".py",
   "mimetype": "text/x-python",
   "name": "python",
   "nbconvert_exporter": "python",
   "pygments_lexer": "ipython3",
   "version": "3.8.2"
  }
 },
 "nbformat": 4,
 "nbformat_minor": 5
}
