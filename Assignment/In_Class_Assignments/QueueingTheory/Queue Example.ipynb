{
 "cells": [
  {
   "cell_type": "code",
   "execution_count": 1,
   "id": "1bc43990-a6bd-48bf-8a2d-5d3f7dbe87b4",
   "metadata": {},
   "outputs": [],
   "source": [
    "import pandas as pd \n",
    "import numpy as np\n",
    "import matplotlib.pyplot as plt"
   ]
  },
  {
   "cell_type": "markdown",
   "id": "9e9c2174-ad86-4982-81f5-bd4a009ff28b",
   "metadata": {},
   "source": [
    "# Queue Data \n",
    "\n",
    "\n",
    "\n",
    "Queue Theory: https://en.wikipedia.org/wiki/Queueing_theory \n",
    "\n",
    "Examples:\n",
    "- Waiting time in banks\n",
    "- Lines in Walmart\n",
    "- Amazon Orders\n"
   ]
  },
  {
   "cell_type": "code",
   "execution_count": 2,
   "id": "ce4900c9-1583-4bdd-9429-beffaaf876f1",
   "metadata": {},
   "outputs": [
    {
     "data": {
      "text/html": [
       "<div>\n",
       "<style scoped>\n",
       "    .dataframe tbody tr th:only-of-type {\n",
       "        vertical-align: middle;\n",
       "    }\n",
       "\n",
       "    .dataframe tbody tr th {\n",
       "        vertical-align: top;\n",
       "    }\n",
       "\n",
       "    .dataframe thead th {\n",
       "        text-align: right;\n",
       "    }\n",
       "</style>\n",
       "<table border=\"1\" class=\"dataframe\">\n",
       "  <thead>\n",
       "    <tr style=\"text-align: right;\">\n",
       "      <th></th>\n",
       "      <th>ID</th>\n",
       "      <th>ArrivalDate</th>\n",
       "      <th>ServiceDate</th>\n",
       "      <th>DepartureDate</th>\n",
       "    </tr>\n",
       "  </thead>\n",
       "  <tbody>\n",
       "    <tr>\n",
       "      <th>0</th>\n",
       "      <td>235392959173863530111756933455078215237</td>\n",
       "      <td>2021-12-01 08:30:03.142411620</td>\n",
       "      <td>2021-12-01 08:32:01.330095240</td>\n",
       "      <td>2021-12-01 08:44:07.814904120</td>\n",
       "    </tr>\n",
       "    <tr>\n",
       "      <th>1</th>\n",
       "      <td>64326533532200255395016525602529058896</td>\n",
       "      <td>2021-12-01 08:31:07.760291340</td>\n",
       "      <td>2021-12-01 08:31:38.121426840</td>\n",
       "      <td>2021-12-01 08:49:27.539433480</td>\n",
       "    </tr>\n",
       "    <tr>\n",
       "      <th>2</th>\n",
       "      <td>114525398345555710902609725511699024054</td>\n",
       "      <td>2021-12-01 08:32:37.467678000</td>\n",
       "      <td>2021-12-01 08:33:49.021929780</td>\n",
       "      <td>2021-12-01 08:33:52.478631180</td>\n",
       "    </tr>\n",
       "    <tr>\n",
       "      <th>3</th>\n",
       "      <td>76227396327296191769664879284725787926</td>\n",
       "      <td>2021-12-01 08:34:06.275632680</td>\n",
       "      <td>2021-12-01 08:34:27.181560900</td>\n",
       "      <td>2021-12-01 08:34:31.922284500</td>\n",
       "    </tr>\n",
       "    <tr>\n",
       "      <th>4</th>\n",
       "      <td>49563438426655624051382460696663507823</td>\n",
       "      <td>2021-12-01 08:34:11.668938480</td>\n",
       "      <td>2021-12-01 08:34:17.025195300</td>\n",
       "      <td>2021-12-01 08:40:50.772451140</td>\n",
       "    </tr>\n",
       "  </tbody>\n",
       "</table>\n",
       "</div>"
      ],
      "text/plain": [
       "                                        ID                    ArrivalDate  \\\n",
       "0  235392959173863530111756933455078215237  2021-12-01 08:30:03.142411620   \n",
       "1   64326533532200255395016525602529058896  2021-12-01 08:31:07.760291340   \n",
       "2  114525398345555710902609725511699024054  2021-12-01 08:32:37.467678000   \n",
       "3   76227396327296191769664879284725787926  2021-12-01 08:34:06.275632680   \n",
       "4   49563438426655624051382460696663507823  2021-12-01 08:34:11.668938480   \n",
       "\n",
       "                     ServiceDate                  DepartureDate  \n",
       "0  2021-12-01 08:32:01.330095240  2021-12-01 08:44:07.814904120  \n",
       "1  2021-12-01 08:31:38.121426840  2021-12-01 08:49:27.539433480  \n",
       "2  2021-12-01 08:33:49.021929780  2021-12-01 08:33:52.478631180  \n",
       "3  2021-12-01 08:34:27.181560900  2021-12-01 08:34:31.922284500  \n",
       "4  2021-12-01 08:34:17.025195300  2021-12-01 08:40:50.772451140  "
      ]
     },
     "execution_count": 2,
     "metadata": {},
     "output_type": "execute_result"
    }
   ],
   "source": [
    "# Read in Data\n",
    "Dec2021_df = pd.read_csv(\"../data/Dec2021.csv\")\n",
    "\n",
    "Dec2021_df.head()"
   ]
  },
  {
   "cell_type": "code",
   "execution_count": 3,
   "id": "2ba7e143-f4b3-4356-ad27-cd20ab3ed2f7",
   "metadata": {},
   "outputs": [
    {
     "data": {
      "text/html": [
       "<div>\n",
       "<style scoped>\n",
       "    .dataframe tbody tr th:only-of-type {\n",
       "        vertical-align: middle;\n",
       "    }\n",
       "\n",
       "    .dataframe tbody tr th {\n",
       "        vertical-align: top;\n",
       "    }\n",
       "\n",
       "    .dataframe thead th {\n",
       "        text-align: right;\n",
       "    }\n",
       "</style>\n",
       "<table border=\"1\" class=\"dataframe\">\n",
       "  <thead>\n",
       "    <tr style=\"text-align: right;\">\n",
       "      <th></th>\n",
       "      <th>ID</th>\n",
       "      <th>ArrivalDate</th>\n",
       "      <th>ServiceDate</th>\n",
       "      <th>DepartureDate</th>\n",
       "    </tr>\n",
       "  </thead>\n",
       "  <tbody>\n",
       "    <tr>\n",
       "      <th>0</th>\n",
       "      <td>738530328493554947610670104377967173</td>\n",
       "      <td>2022-01-01 08:32:32.121095340</td>\n",
       "      <td>2022-01-01 08:32:00.294871381</td>\n",
       "      <td>2022-01-01 08:39:50.848357501</td>\n",
       "    </tr>\n",
       "    <tr>\n",
       "      <th>1</th>\n",
       "      <td>170708601888519227860818852793160007190</td>\n",
       "      <td>2022-01-01 08:33:01.777313280</td>\n",
       "      <td>2022-01-01 08:35:02.783959680</td>\n",
       "      <td>2022-01-01 08:53:53.489448420</td>\n",
       "    </tr>\n",
       "    <tr>\n",
       "      <th>2</th>\n",
       "      <td>66903984276409186233885424189285526275</td>\n",
       "      <td>2022-01-01 08:33:02.539119900</td>\n",
       "      <td>2022-01-01 08:32:21.278138100</td>\n",
       "      <td>2022-01-01 08:32:29.864592900</td>\n",
       "    </tr>\n",
       "    <tr>\n",
       "      <th>3</th>\n",
       "      <td>247484544026101393123795762628777205066</td>\n",
       "      <td>2022-01-01 08:33:12.861193920</td>\n",
       "      <td>2022-01-01 08:37:41.532846780</td>\n",
       "      <td>2022-01-01 08:47:23.373932700</td>\n",
       "    </tr>\n",
       "    <tr>\n",
       "      <th>4</th>\n",
       "      <td>181987299051616613577116268493942154025</td>\n",
       "      <td>2022-01-01 08:35:19.987346640</td>\n",
       "      <td>2022-01-01 08:37:56.836174080</td>\n",
       "      <td>2022-01-01 08:53:24.412837980</td>\n",
       "    </tr>\n",
       "  </tbody>\n",
       "</table>\n",
       "</div>"
      ],
      "text/plain": [
       "                                        ID                    ArrivalDate  \\\n",
       "0     738530328493554947610670104377967173  2022-01-01 08:32:32.121095340   \n",
       "1  170708601888519227860818852793160007190  2022-01-01 08:33:01.777313280   \n",
       "2   66903984276409186233885424189285526275  2022-01-01 08:33:02.539119900   \n",
       "3  247484544026101393123795762628777205066  2022-01-01 08:33:12.861193920   \n",
       "4  181987299051616613577116268493942154025  2022-01-01 08:35:19.987346640   \n",
       "\n",
       "                     ServiceDate                  DepartureDate  \n",
       "0  2022-01-01 08:32:00.294871381  2022-01-01 08:39:50.848357501  \n",
       "1  2022-01-01 08:35:02.783959680  2022-01-01 08:53:53.489448420  \n",
       "2  2022-01-01 08:32:21.278138100  2022-01-01 08:32:29.864592900  \n",
       "3  2022-01-01 08:37:41.532846780  2022-01-01 08:47:23.373932700  \n",
       "4  2022-01-01 08:37:56.836174080  2022-01-01 08:53:24.412837980  "
      ]
     },
     "execution_count": 3,
     "metadata": {},
     "output_type": "execute_result"
    }
   ],
   "source": [
    "# Read in Data\n",
    "Jan2022_df = pd.read_csv(\"../data/Jan2022.csv\")\n",
    "Jan2022_df.head()"
   ]
  },
  {
   "cell_type": "markdown",
   "id": "fb1b9b33-a3f7-48e3-b4fa-a626ec0c1c78",
   "metadata": {},
   "source": [
    "# Compute Service Times\n"
   ]
  },
  {
   "cell_type": "code",
   "execution_count": null,
   "id": "50825b5a-8ae9-4b21-9144-2b43638492c9",
   "metadata": {},
   "outputs": [],
   "source": []
  },
  {
   "cell_type": "markdown",
   "id": "091fce71-0384-4f98-abf1-dc87ad6a1b8a",
   "metadata": {},
   "source": [
    "# Plot Data"
   ]
  },
  {
   "cell_type": "code",
   "execution_count": null,
   "id": "98968531-d03f-4a3c-a8cc-5f6b9f9fd04a",
   "metadata": {},
   "outputs": [],
   "source": []
  },
  {
   "cell_type": "markdown",
   "id": "7ecdebd7-7662-45a1-8797-8f297af25079",
   "metadata": {},
   "source": [
    "# Estimate Distribution"
   ]
  },
  {
   "cell_type": "code",
   "execution_count": null,
   "id": "8b7c29de-3199-4529-a1b6-caa0b5e25675",
   "metadata": {},
   "outputs": [],
   "source": []
  }
 ],
 "metadata": {
  "kernelspec": {
   "display_name": "Python 3",
   "language": "python",
   "name": "python3"
  },
  "language_info": {
   "codemirror_mode": {
    "name": "ipython",
    "version": 3
   },
   "file_extension": ".py",
   "mimetype": "text/x-python",
   "name": "python",
   "nbconvert_exporter": "python",
   "pygments_lexer": "ipython3",
   "version": "3.8.2"
  }
 },
 "nbformat": 4,
 "nbformat_minor": 5
}
